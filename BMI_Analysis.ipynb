{
 "cells": [
  {
   "cell_type": "markdown",
   "id": "a6790f79",
   "metadata": {},
   "source": [
    "# Analysis of BMI as a Risk Factor for Heart Disease"
   ]
  },
  {
   "cell_type": "markdown",
   "id": "914840c0",
   "metadata": {},
   "source": [
    "## Data Cleaning"
   ]
  },
  {
   "cell_type": "code",
   "execution_count": 29,
   "id": "1d2b9305",
   "metadata": {},
   "outputs": [],
   "source": [
    "# Import dependencies\n",
    "import pandas as pd\n",
    "import matplotlib.pyplot as plt\n",
    "import scipy.stats as st\n",
    "import numpy as np"
   ]
  },
  {
   "cell_type": "code",
   "execution_count": 2,
   "id": "df998eac",
   "metadata": {
    "scrolled": true
   },
   "outputs": [],
   "source": [
    "# Import CSV File\n",
    "heart_disease_df = pd.read_csv('Resources\\heart_2020_cleaned.csv')\n",
    "\n",
    "# Drop unneeded columns\n",
    "heart_disease_df = heart_disease_df.drop(columns=['Stroke','PhysicalHealth','MentalHealth','DiffWalking',\n",
    "                                                  'Race','Diabetic','GenHealth','Asthma','KidneyDisease',\n",
    "                                                  'SkinCancer'])\n",
    "\n",
    "# Rename remaining columns for clarity\n",
    "renamed_df = heart_disease_df.rename(columns={'HeartDisease':'Heart Disease', 'AlcoholDrinking':'Alcohol Drinking', \n",
    "                                              'AgeCategory':'Age Category', 'PhysicalActivity':'Physical Activity', \n",
    "                                              'SleepTime':'Sleep Time'})"
   ]
  },
  {
   "cell_type": "code",
   "execution_count": 3,
   "id": "fff38c4a",
   "metadata": {
    "scrolled": true
   },
   "outputs": [
    {
     "data": {
      "text/html": [
       "<div>\n",
       "<style scoped>\n",
       "    .dataframe tbody tr th:only-of-type {\n",
       "        vertical-align: middle;\n",
       "    }\n",
       "\n",
       "    .dataframe tbody tr th {\n",
       "        vertical-align: top;\n",
       "    }\n",
       "\n",
       "    .dataframe thead th {\n",
       "        text-align: right;\n",
       "    }\n",
       "</style>\n",
       "<table border=\"1\" class=\"dataframe\">\n",
       "  <thead>\n",
       "    <tr style=\"text-align: right;\">\n",
       "      <th></th>\n",
       "      <th>Heart Disease</th>\n",
       "      <th>BMI</th>\n",
       "      <th>Smoking</th>\n",
       "      <th>Alcohol Drinking</th>\n",
       "      <th>Sex</th>\n",
       "      <th>Age Category</th>\n",
       "      <th>Physical Activity</th>\n",
       "      <th>Sleep Time</th>\n",
       "    </tr>\n",
       "  </thead>\n",
       "  <tbody>\n",
       "    <tr>\n",
       "      <th>0</th>\n",
       "      <td>No</td>\n",
       "      <td>16.60</td>\n",
       "      <td>Yes</td>\n",
       "      <td>No</td>\n",
       "      <td>Female</td>\n",
       "      <td>55-59</td>\n",
       "      <td>Yes</td>\n",
       "      <td>5.0</td>\n",
       "    </tr>\n",
       "    <tr>\n",
       "      <th>1</th>\n",
       "      <td>No</td>\n",
       "      <td>20.34</td>\n",
       "      <td>No</td>\n",
       "      <td>No</td>\n",
       "      <td>Female</td>\n",
       "      <td>80 or older</td>\n",
       "      <td>Yes</td>\n",
       "      <td>7.0</td>\n",
       "    </tr>\n",
       "    <tr>\n",
       "      <th>2</th>\n",
       "      <td>No</td>\n",
       "      <td>26.58</td>\n",
       "      <td>Yes</td>\n",
       "      <td>No</td>\n",
       "      <td>Male</td>\n",
       "      <td>65-69</td>\n",
       "      <td>Yes</td>\n",
       "      <td>8.0</td>\n",
       "    </tr>\n",
       "    <tr>\n",
       "      <th>3</th>\n",
       "      <td>No</td>\n",
       "      <td>24.21</td>\n",
       "      <td>No</td>\n",
       "      <td>No</td>\n",
       "      <td>Female</td>\n",
       "      <td>75-79</td>\n",
       "      <td>No</td>\n",
       "      <td>6.0</td>\n",
       "    </tr>\n",
       "    <tr>\n",
       "      <th>4</th>\n",
       "      <td>No</td>\n",
       "      <td>23.71</td>\n",
       "      <td>No</td>\n",
       "      <td>No</td>\n",
       "      <td>Female</td>\n",
       "      <td>40-44</td>\n",
       "      <td>Yes</td>\n",
       "      <td>8.0</td>\n",
       "    </tr>\n",
       "  </tbody>\n",
       "</table>\n",
       "</div>"
      ],
      "text/plain": [
       "  Heart Disease    BMI Smoking Alcohol Drinking     Sex Age Category  \\\n",
       "0            No  16.60     Yes               No  Female        55-59   \n",
       "1            No  20.34      No               No  Female  80 or older   \n",
       "2            No  26.58     Yes               No    Male        65-69   \n",
       "3            No  24.21      No               No  Female        75-79   \n",
       "4            No  23.71      No               No  Female        40-44   \n",
       "\n",
       "  Physical Activity  Sleep Time  \n",
       "0               Yes         5.0  \n",
       "1               Yes         7.0  \n",
       "2               Yes         8.0  \n",
       "3                No         6.0  \n",
       "4               Yes         8.0  "
      ]
     },
     "execution_count": 3,
     "metadata": {},
     "output_type": "execute_result"
    }
   ],
   "source": [
    "# View first 5 lines of data\n",
    "renamed_df.head()"
   ]
  },
  {
   "cell_type": "markdown",
   "id": "aa6dd27e",
   "metadata": {},
   "source": [
    "## Creating BMI Categories and Binning Them"
   ]
  },
  {
   "cell_type": "code",
   "execution_count": 4,
   "id": "9565e482",
   "metadata": {},
   "outputs": [
    {
     "name": "stdout",
     "output_type": "stream",
     "text": [
      "94.85\n",
      "12.02\n"
     ]
    }
   ],
   "source": [
    "# Find the maximum and minimum BMI scores to determine bin edges\n",
    "print(renamed_df[\"BMI\"].max())\n",
    "print(renamed_df[\"BMI\"].min())"
   ]
  },
  {
   "cell_type": "code",
   "execution_count": 5,
   "id": "aaa122f1",
   "metadata": {
    "scrolled": true
   },
   "outputs": [],
   "source": [
    "# Create bins in which to place values based upon BMI value\n",
    "bmi_bins=[0, 18.49, 24.99, 29.99, 34.99, 39.99, 95]"
   ]
  },
  {
   "cell_type": "code",
   "execution_count": 6,
   "id": "5ba8343c",
   "metadata": {},
   "outputs": [],
   "source": [
    "# Create bin labels based on on CDC's BMI definitions\n",
    "bmi_labels=['Underweight (less than 18.5)','Healthy Weight (18.5 to 24.9)','Overweight (25 to 29.9)',\n",
    "            'Class 1 Obese (30 to 34.99)','Class 2 Obese (35 to 39.99)','Class 3 Severely Obese (40+)']"
   ]
  },
  {
   "cell_type": "code",
   "execution_count": 7,
   "id": "5bc80890",
   "metadata": {
    "scrolled": true
   },
   "outputs": [
    {
     "data": {
      "text/html": [
       "<div>\n",
       "<style scoped>\n",
       "    .dataframe tbody tr th:only-of-type {\n",
       "        vertical-align: middle;\n",
       "    }\n",
       "\n",
       "    .dataframe tbody tr th {\n",
       "        vertical-align: top;\n",
       "    }\n",
       "\n",
       "    .dataframe thead th {\n",
       "        text-align: right;\n",
       "    }\n",
       "</style>\n",
       "<table border=\"1\" class=\"dataframe\">\n",
       "  <thead>\n",
       "    <tr style=\"text-align: right;\">\n",
       "      <th></th>\n",
       "      <th>Heart Disease</th>\n",
       "      <th>BMI</th>\n",
       "      <th>Smoking</th>\n",
       "      <th>Alcohol Drinking</th>\n",
       "      <th>Sex</th>\n",
       "      <th>Age Category</th>\n",
       "      <th>Physical Activity</th>\n",
       "      <th>Sleep Time</th>\n",
       "      <th>BMI Category</th>\n",
       "    </tr>\n",
       "  </thead>\n",
       "  <tbody>\n",
       "    <tr>\n",
       "      <th>0</th>\n",
       "      <td>No</td>\n",
       "      <td>16.60</td>\n",
       "      <td>Yes</td>\n",
       "      <td>No</td>\n",
       "      <td>Female</td>\n",
       "      <td>55-59</td>\n",
       "      <td>Yes</td>\n",
       "      <td>5.0</td>\n",
       "      <td>Underweight (less than 18.5)</td>\n",
       "    </tr>\n",
       "    <tr>\n",
       "      <th>1</th>\n",
       "      <td>No</td>\n",
       "      <td>20.34</td>\n",
       "      <td>No</td>\n",
       "      <td>No</td>\n",
       "      <td>Female</td>\n",
       "      <td>80 or older</td>\n",
       "      <td>Yes</td>\n",
       "      <td>7.0</td>\n",
       "      <td>Healthy Weight (18.5 to 24.9)</td>\n",
       "    </tr>\n",
       "    <tr>\n",
       "      <th>2</th>\n",
       "      <td>No</td>\n",
       "      <td>26.58</td>\n",
       "      <td>Yes</td>\n",
       "      <td>No</td>\n",
       "      <td>Male</td>\n",
       "      <td>65-69</td>\n",
       "      <td>Yes</td>\n",
       "      <td>8.0</td>\n",
       "      <td>Overweight (25 to 29.9)</td>\n",
       "    </tr>\n",
       "    <tr>\n",
       "      <th>3</th>\n",
       "      <td>No</td>\n",
       "      <td>24.21</td>\n",
       "      <td>No</td>\n",
       "      <td>No</td>\n",
       "      <td>Female</td>\n",
       "      <td>75-79</td>\n",
       "      <td>No</td>\n",
       "      <td>6.0</td>\n",
       "      <td>Healthy Weight (18.5 to 24.9)</td>\n",
       "    </tr>\n",
       "    <tr>\n",
       "      <th>4</th>\n",
       "      <td>No</td>\n",
       "      <td>23.71</td>\n",
       "      <td>No</td>\n",
       "      <td>No</td>\n",
       "      <td>Female</td>\n",
       "      <td>40-44</td>\n",
       "      <td>Yes</td>\n",
       "      <td>8.0</td>\n",
       "      <td>Healthy Weight (18.5 to 24.9)</td>\n",
       "    </tr>\n",
       "  </tbody>\n",
       "</table>\n",
       "</div>"
      ],
      "text/plain": [
       "  Heart Disease    BMI Smoking Alcohol Drinking     Sex Age Category  \\\n",
       "0            No  16.60     Yes               No  Female        55-59   \n",
       "1            No  20.34      No               No  Female  80 or older   \n",
       "2            No  26.58     Yes               No    Male        65-69   \n",
       "3            No  24.21      No               No  Female        75-79   \n",
       "4            No  23.71      No               No  Female        40-44   \n",
       "\n",
       "  Physical Activity  Sleep Time                   BMI Category  \n",
       "0               Yes         5.0   Underweight (less than 18.5)  \n",
       "1               Yes         7.0  Healthy Weight (18.5 to 24.9)  \n",
       "2               Yes         8.0        Overweight (25 to 29.9)  \n",
       "3                No         6.0  Healthy Weight (18.5 to 24.9)  \n",
       "4               Yes         8.0  Healthy Weight (18.5 to 24.9)  "
      ]
     },
     "execution_count": 7,
     "metadata": {},
     "output_type": "execute_result"
    }
   ],
   "source": [
    "# Slice the data, place it in bins, and create a new column to contain the data series\n",
    "renamed_df['BMI Category'] = pd.cut(renamed_df[\"BMI\"], bmi_bins, labels=bmi_labels)\n",
    "renamed_df.head()"
   ]
  },
  {
   "cell_type": "code",
   "execution_count": 8,
   "id": "b27ca041",
   "metadata": {
    "scrolled": true
   },
   "outputs": [
    {
     "data": {
      "text/plain": [
       "BMI Category\n",
       "Underweight (less than 18.5)       5110\n",
       "Healthy Weight (18.5 to 24.9)     97331\n",
       "Overweight (25 to 29.9)          114512\n",
       "Class 1 Obese (30 to 34.99)       61345\n",
       "Class 2 Obese (35 to 39.99)       25112\n",
       "Class 3 Severely Obese (40+)      16385\n",
       "Name: BMI Category, dtype: int64"
      ]
     },
     "execution_count": 8,
     "metadata": {},
     "output_type": "execute_result"
    }
   ],
   "source": [
    "# Count how many values are in each BMI category for Overview of data\n",
    "bmi_group = renamed_df.groupby('BMI Category')['BMI Category'].count()\n",
    "bmi_group"
   ]
  },
  {
   "cell_type": "markdown",
   "id": "a03d1c6c",
   "metadata": {},
   "source": [
    "## Data Visualization"
   ]
  },
  {
   "cell_type": "code",
   "execution_count": 9,
   "id": "a7c5984c",
   "metadata": {
    "scrolled": true
   },
   "outputs": [
    {
     "data": {
      "text/html": [
       "<div>\n",
       "<style scoped>\n",
       "    .dataframe tbody tr th:only-of-type {\n",
       "        vertical-align: middle;\n",
       "    }\n",
       "\n",
       "    .dataframe tbody tr th {\n",
       "        vertical-align: top;\n",
       "    }\n",
       "\n",
       "    .dataframe thead th {\n",
       "        text-align: right;\n",
       "    }\n",
       "</style>\n",
       "<table border=\"1\" class=\"dataframe\">\n",
       "  <thead>\n",
       "    <tr style=\"text-align: right;\">\n",
       "      <th></th>\n",
       "      <th>Heart Disease</th>\n",
       "      <th>BMI Category</th>\n",
       "    </tr>\n",
       "  </thead>\n",
       "  <tbody>\n",
       "    <tr>\n",
       "      <th>0</th>\n",
       "      <td>No</td>\n",
       "      <td>Underweight (less than 18.5)</td>\n",
       "    </tr>\n",
       "    <tr>\n",
       "      <th>1</th>\n",
       "      <td>No</td>\n",
       "      <td>Healthy Weight (18.5 to 24.9)</td>\n",
       "    </tr>\n",
       "    <tr>\n",
       "      <th>2</th>\n",
       "      <td>No</td>\n",
       "      <td>Overweight (25 to 29.9)</td>\n",
       "    </tr>\n",
       "    <tr>\n",
       "      <th>3</th>\n",
       "      <td>No</td>\n",
       "      <td>Healthy Weight (18.5 to 24.9)</td>\n",
       "    </tr>\n",
       "    <tr>\n",
       "      <th>4</th>\n",
       "      <td>No</td>\n",
       "      <td>Healthy Weight (18.5 to 24.9)</td>\n",
       "    </tr>\n",
       "  </tbody>\n",
       "</table>\n",
       "</div>"
      ],
      "text/plain": [
       "  Heart Disease                   BMI Category\n",
       "0            No   Underweight (less than 18.5)\n",
       "1            No  Healthy Weight (18.5 to 24.9)\n",
       "2            No        Overweight (25 to 29.9)\n",
       "3            No  Healthy Weight (18.5 to 24.9)\n",
       "4            No  Healthy Weight (18.5 to 24.9)"
      ]
     },
     "execution_count": 9,
     "metadata": {},
     "output_type": "execute_result"
    }
   ],
   "source": [
    "bmi_df = renamed_df[['Heart Disease','BMI Category']]\n",
    "bmi_df.head()"
   ]
  },
  {
   "cell_type": "code",
   "execution_count": 10,
   "id": "976ddc1a",
   "metadata": {
    "scrolled": false
   },
   "outputs": [
    {
     "data": {
      "text/html": [
       "<div>\n",
       "<style scoped>\n",
       "    .dataframe tbody tr th:only-of-type {\n",
       "        vertical-align: middle;\n",
       "    }\n",
       "\n",
       "    .dataframe tbody tr th {\n",
       "        vertical-align: top;\n",
       "    }\n",
       "\n",
       "    .dataframe thead th {\n",
       "        text-align: right;\n",
       "    }\n",
       "</style>\n",
       "<table border=\"1\" class=\"dataframe\">\n",
       "  <thead>\n",
       "    <tr style=\"text-align: right;\">\n",
       "      <th>Heart Disease</th>\n",
       "      <th>No</th>\n",
       "      <th>Yes</th>\n",
       "    </tr>\n",
       "    <tr>\n",
       "      <th>BMI Category</th>\n",
       "      <th></th>\n",
       "      <th></th>\n",
       "    </tr>\n",
       "  </thead>\n",
       "  <tbody>\n",
       "    <tr>\n",
       "      <th>Underweight (less than 18.5)</th>\n",
       "      <td>4709</td>\n",
       "      <td>401</td>\n",
       "    </tr>\n",
       "    <tr>\n",
       "      <th>Healthy Weight (18.5 to 24.9)</th>\n",
       "      <td>91022</td>\n",
       "      <td>6309</td>\n",
       "    </tr>\n",
       "    <tr>\n",
       "      <th>Overweight (25 to 29.9)</th>\n",
       "      <td>104521</td>\n",
       "      <td>9991</td>\n",
       "    </tr>\n",
       "    <tr>\n",
       "      <th>Class 1 Obese (30 to 34.99)</th>\n",
       "      <td>55185</td>\n",
       "      <td>6160</td>\n",
       "    </tr>\n",
       "    <tr>\n",
       "      <th>Class 2 Obese (35 to 39.99)</th>\n",
       "      <td>22412</td>\n",
       "      <td>2700</td>\n",
       "    </tr>\n",
       "  </tbody>\n",
       "</table>\n",
       "</div>"
      ],
      "text/plain": [
       "Heart Disease                      No   Yes\n",
       "BMI Category                               \n",
       "Underweight (less than 18.5)     4709   401\n",
       "Healthy Weight (18.5 to 24.9)   91022  6309\n",
       "Overweight (25 to 29.9)        104521  9991\n",
       "Class 1 Obese (30 to 34.99)     55185  6160\n",
       "Class 2 Obese (35 to 39.99)     22412  2700"
      ]
     },
     "execution_count": 10,
     "metadata": {},
     "output_type": "execute_result"
    }
   ],
   "source": [
    "# Group the DataFrame by 'BMI Category' and 'Heart Disease' and count by yes/no value\n",
    "bmi_grouped_df = bmi_df.groupby(['BMI Category', 'Heart Disease']).size().unstack()\n",
    "bmi_grouped_df.head()"
   ]
  },
  {
   "cell_type": "code",
   "execution_count": 11,
   "id": "7b9b8c07",
   "metadata": {
    "scrolled": true
   },
   "outputs": [],
   "source": [
    "# Calculate the percentage for each row\n",
    "# axis=1 means sum across columns\n",
    "# axis=0 means the division should be performed across the rows\n",
    "\n",
    "# Calculate the percentage for each row\n",
    "percentages = bmi_grouped_df.div(bmi_grouped_df.sum(axis=1), axis=0) * 100"
   ]
  },
  {
   "cell_type": "code",
   "execution_count": 26,
   "id": "ddde45c9",
   "metadata": {},
   "outputs": [
    {
     "data": {
      "image/png": "[encoded data removed]",
      "text/plain": [
       "<Figure size 640x480 with 1 Axes>"
      ]
     },
     "metadata": {},
     "output_type": "display_data"
    }
   ],
   "source": [
    "# Define the colors for the bars\n",
    "colors = ['#b0aeaf', '#f2c4db']\n",
    "\n",
    "# Plot the stacked bar chart using percentages\n",
    "fig1 = percentages.plot(kind='bar', stacked=True, color=colors)\n",
    "\n",
    "# Customize the plot\n",
    "plt.xlabel('BMI Category')\n",
    "plt.ylabel('Percentage')\n",
    "plt.title('Heart Disease Percentage by BMI Category')\n",
    "plt.legend(title='Heart Disease', loc='upper right')\n",
    "\n",
    "# Rotate x-axis labels by 45 degrees\n",
    "plt.xticks(rotation=45, ha='right')\n",
    "\n",
    "# Set the y-axis limits from 40% to 100%\n",
    "plt.ylim(50)\n",
    "\n",
    "# Move the legend outside the chart\n",
    "plt.legend(title='Heart Disease', bbox_to_anchor=(1, 1), loc='upper left')\n",
    "\n",
    "# Save the figure as a PNG file\n",
    "plt.savefig('Visualization/BMI_bar_chart.png', bbox_inches='tight')\n",
    "\n",
    "# Display the plot\n",
    "plt.show()"
   ]
  },
  {
   "cell_type": "code",
   "execution_count": 13,
   "id": "75178034",
   "metadata": {},
   "outputs": [
    {
     "data": {
      "text/html": [
       "<div>\n",
       "<style scoped>\n",
       "    .dataframe tbody tr th:only-of-type {\n",
       "        vertical-align: middle;\n",
       "    }\n",
       "\n",
       "    .dataframe tbody tr th {\n",
       "        vertical-align: top;\n",
       "    }\n",
       "\n",
       "    .dataframe thead th {\n",
       "        text-align: right;\n",
       "    }\n",
       "</style>\n",
       "<table border=\"1\" class=\"dataframe\">\n",
       "  <thead>\n",
       "    <tr style=\"text-align: right;\">\n",
       "      <th>Heart Disease</th>\n",
       "      <th>No</th>\n",
       "      <th>Yes</th>\n",
       "    </tr>\n",
       "    <tr>\n",
       "      <th>BMI Category</th>\n",
       "      <th></th>\n",
       "      <th></th>\n",
       "    </tr>\n",
       "  </thead>\n",
       "  <tbody>\n",
       "    <tr>\n",
       "      <th>Underweight (less than 18.5)</th>\n",
       "      <td>92.15%</td>\n",
       "      <td>7.85%</td>\n",
       "    </tr>\n",
       "    <tr>\n",
       "      <th>Healthy Weight (18.5 to 24.9)</th>\n",
       "      <td>93.52%</td>\n",
       "      <td>6.48%</td>\n",
       "    </tr>\n",
       "    <tr>\n",
       "      <th>Overweight (25 to 29.9)</th>\n",
       "      <td>91.28%</td>\n",
       "      <td>8.72%</td>\n",
       "    </tr>\n",
       "    <tr>\n",
       "      <th>Class 1 Obese (30 to 34.99)</th>\n",
       "      <td>89.96%</td>\n",
       "      <td>10.04%</td>\n",
       "    </tr>\n",
       "    <tr>\n",
       "      <th>Class 2 Obese (35 to 39.99)</th>\n",
       "      <td>89.25%</td>\n",
       "      <td>10.75%</td>\n",
       "    </tr>\n",
       "    <tr>\n",
       "      <th>Class 3 Severely Obese (40+)</th>\n",
       "      <td>88.94%</td>\n",
       "      <td>11.06%</td>\n",
       "    </tr>\n",
       "  </tbody>\n",
       "</table>\n",
       "</div>"
      ],
      "text/plain": [
       "Heart Disease                      No     Yes\n",
       "BMI Category                                 \n",
       "Underweight (less than 18.5)   92.15%   7.85%\n",
       "Healthy Weight (18.5 to 24.9)  93.52%   6.48%\n",
       "Overweight (25 to 29.9)        91.28%   8.72%\n",
       "Class 1 Obese (30 to 34.99)    89.96%  10.04%\n",
       "Class 2 Obese (35 to 39.99)    89.25%  10.75%\n",
       "Class 3 Severely Obese (40+)   88.94%  11.06%"
      ]
     },
     "execution_count": 13,
     "metadata": {},
     "output_type": "execute_result"
    }
   ],
   "source": [
    "# Round and format the percentages\n",
    "percentages['Yes'] = percentages['Yes'].round(2).astype(str) + '%'\n",
    "percentages['No'] = percentages['No'].round(2).astype(str) + '%'\n",
    "percentages"
   ]
  },
  {
   "cell_type": "markdown",
   "id": "5e9abfdc",
   "metadata": {},
   "source": [
    "### Resources\n",
    "https://www.cdc.gov/obesity/basics/adult-defining.html<br>\n",
    "https://matplotlib.org/stable/tutorials/intermediate/legend_guide.html<br>\n",
    "https://pandas.pydata.org/pandas-docs/stable/user_guide/dsintro.html<br>\n",
    "https://pandas.pydata.org/pandas-docs/stable/reference/api/pandas.DataFrame.div.html"
   ]
  },
  {
   "cell_type": "code",
   "execution_count": null,
   "id": "413e41b4",
   "metadata": {},
   "outputs": [],
   "source": []
  }
 ],
 "metadata": {
  "kernelspec": {
   "display_name": "Python 3 (ipykernel)",
   "language": "python",
   "name": "python3"
  },
  "language_info": {
   "codemirror_mode": {
    "name": "ipython",
    "version": 3
   },
   "file_extension": ".py",
   "mimetype": "text/x-python",
   "name": "python",
   "nbconvert_exporter": "python",
   "pygments_lexer": "ipython3",
   "version": "3.10.11"
  }
 },
 "nbformat": 4,
 "nbformat_minor": 5
}
