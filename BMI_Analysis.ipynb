{
 "cells": [
  {
   "cell_type": "code",
   "execution_count": 32,
   "id": "1d2b9305",
   "metadata": {},
   "outputs": [],
   "source": [
    "# Import dependencies\n",
    "\n",
    "import pandas as pd\n",
    "import matplotlib.pyplot as plt\n",
    "import scipy.stats as st\n",
    "import numpy as np"
   ]
  },
  {
   "cell_type": "code",
   "execution_count": 33,
   "id": "df998eac",
   "metadata": {
    "scrolled": true
   },
   "outputs": [],
   "source": [
    "# Import CSV File\n",
    "\n",
    "heart_disease_df = pd.read_csv('Resources\\heart_2020_cleaned.csv')\n",
    "\n",
    "# Drop unneeded columns\n",
    "\n",
    "heart_disease_df = heart_disease_df.drop(columns=['Stroke','PhysicalHealth','MentalHealth','DiffWalking',\n",
    "                                                  'Race','Diabetic','GenHealth','Asthma','KidneyDisease',\n",
    "                                                  'SkinCancer'])\n",
    "\n",
    "# Rename remaining columns for clarity\n",
    "\n",
    "renamed_df = heart_disease_df.rename(columns={'HeartDisease':'Heart Disease', 'AlcoholDrinking':'Alcohol Drinking', \n",
    "                                              'AgeCategory':'Age Category', 'PhysicalActivity':'Physical Activity', \n",
    "                                              'SleepTime':'Sleep Time'})"
   ]
  },
  {
   "cell_type": "code",
   "execution_count": 34,
   "id": "fff38c4a",
   "metadata": {
    "scrolled": false
   },
   "outputs": [
    {
     "data": {
      "text/html": [
       "<div>\n",
       "<style scoped>\n",
       "    .dataframe tbody tr th:only-of-type {\n",
       "        vertical-align: middle;\n",
       "    }\n",
       "\n",
       "    .dataframe tbody tr th {\n",
       "        vertical-align: top;\n",
       "    }\n",
       "\n",
       "    .dataframe thead th {\n",
       "        text-align: right;\n",
       "    }\n",
       "</style>\n",
       "<table border=\"1\" class=\"dataframe\">\n",
       "  <thead>\n",
       "    <tr style=\"text-align: right;\">\n",
       "      <th></th>\n",
       "      <th>Heart Disease</th>\n",
       "      <th>BMI</th>\n",
       "      <th>Smoking</th>\n",
       "      <th>Alcohol Drinking</th>\n",
       "      <th>Sex</th>\n",
       "      <th>Age Category</th>\n",
       "      <th>Physical Activity</th>\n",
       "      <th>Sleep Time</th>\n",
       "    </tr>\n",
       "  </thead>\n",
       "  <tbody>\n",
       "    <tr>\n",
       "      <th>0</th>\n",
       "      <td>No</td>\n",
       "      <td>16.60</td>\n",
       "      <td>Yes</td>\n",
       "      <td>No</td>\n",
       "      <td>Female</td>\n",
       "      <td>55-59</td>\n",
       "      <td>Yes</td>\n",
       "      <td>5.0</td>\n",
       "    </tr>\n",
       "    <tr>\n",
       "      <th>1</th>\n",
       "      <td>No</td>\n",
       "      <td>20.34</td>\n",
       "      <td>No</td>\n",
       "      <td>No</td>\n",
       "      <td>Female</td>\n",
       "      <td>80 or older</td>\n",
       "      <td>Yes</td>\n",
       "      <td>7.0</td>\n",
       "    </tr>\n",
       "    <tr>\n",
       "      <th>2</th>\n",
       "      <td>No</td>\n",
       "      <td>26.58</td>\n",
       "      <td>Yes</td>\n",
       "      <td>No</td>\n",
       "      <td>Male</td>\n",
       "      <td>65-69</td>\n",
       "      <td>Yes</td>\n",
       "      <td>8.0</td>\n",
       "    </tr>\n",
       "    <tr>\n",
       "      <th>3</th>\n",
       "      <td>No</td>\n",
       "      <td>24.21</td>\n",
       "      <td>No</td>\n",
       "      <td>No</td>\n",
       "      <td>Female</td>\n",
       "      <td>75-79</td>\n",
       "      <td>No</td>\n",
       "      <td>6.0</td>\n",
       "    </tr>\n",
       "    <tr>\n",
       "      <th>4</th>\n",
       "      <td>No</td>\n",
       "      <td>23.71</td>\n",
       "      <td>No</td>\n",
       "      <td>No</td>\n",
       "      <td>Female</td>\n",
       "      <td>40-44</td>\n",
       "      <td>Yes</td>\n",
       "      <td>8.0</td>\n",
       "    </tr>\n",
       "  </tbody>\n",
       "</table>\n",
       "</div>"
      ],
      "text/plain": [
       "  Heart Disease    BMI Smoking Alcohol Drinking     Sex Age Category  \\\n",
       "0            No  16.60     Yes               No  Female        55-59   \n",
       "1            No  20.34      No               No  Female  80 or older   \n",
       "2            No  26.58     Yes               No    Male        65-69   \n",
       "3            No  24.21      No               No  Female        75-79   \n",
       "4            No  23.71      No               No  Female        40-44   \n",
       "\n",
       "  Physical Activity  Sleep Time  \n",
       "0               Yes         5.0  \n",
       "1               Yes         7.0  \n",
       "2               Yes         8.0  \n",
       "3                No         6.0  \n",
       "4               Yes         8.0  "
      ]
     },
     "execution_count": 34,
     "metadata": {},
     "output_type": "execute_result"
    }
   ],
   "source": [
    "# View first 5 lines of data\n",
    "\n",
    "renamed_df.head()"
   ]
  },
  {
   "cell_type": "code",
   "execution_count": 35,
   "id": "9565e482",
   "metadata": {},
   "outputs": [
    {
     "name": "stdout",
     "output_type": "stream",
     "text": [
      "94.85\n",
      "12.02\n"
     ]
    }
   ],
   "source": [
    "# Find the maximum and minimum BMI scores\n",
    "\n",
    "print(renamed_df[\"BMI\"].max())\n",
    "print(renamed_df[\"BMI\"].min())"
   ]
  },
  {
   "cell_type": "code",
   "execution_count": 36,
   "id": "aaa122f1",
   "metadata": {
    "scrolled": true
   },
   "outputs": [],
   "source": [
    "# Create bins in which to place values based upon BMI value\n",
    "\n",
    "bmi_bins=[0, 18.49, 24.99, 29.99, 34.99, 39.99, 95]"
   ]
  },
  {
   "cell_type": "code",
   "execution_count": 37,
   "id": "5ba8343c",
   "metadata": {},
   "outputs": [],
   "source": [
    "# Bin labels and corresponding BMI values were chosen based on CDC's definitions\n",
    "# found at https://www.cdc.gov/obesity/basics/adult-defining.html\n",
    "\n",
    "bmi_labels=['Underweight (less than 18.5)','Healthy Weight (18.5 to 24.9)','Overweight (25 to 29.9)',\n",
    "            'Class 1 Obese (30 to 34.99)','Class 2 Obese (35 to 39.99)','Class 3 Severely Obese (40+)']"
   ]
  },
  {
   "cell_type": "code",
   "execution_count": 38,
   "id": "5bc80890",
   "metadata": {
    "scrolled": true
   },
   "outputs": [
    {
     "data": {
      "text/html": [
       "<div>\n",
       "<style scoped>\n",
       "    .dataframe tbody tr th:only-of-type {\n",
       "        vertical-align: middle;\n",
       "    }\n",
       "\n",
       "    .dataframe tbody tr th {\n",
       "        vertical-align: top;\n",
       "    }\n",
       "\n",
       "    .dataframe thead th {\n",
       "        text-align: right;\n",
       "    }\n",
       "</style>\n",
       "<table border=\"1\" class=\"dataframe\">\n",
       "  <thead>\n",
       "    <tr style=\"text-align: right;\">\n",
       "      <th></th>\n",
       "      <th>Heart Disease</th>\n",
       "      <th>BMI</th>\n",
       "      <th>Smoking</th>\n",
       "      <th>Alcohol Drinking</th>\n",
       "      <th>Sex</th>\n",
       "      <th>Age Category</th>\n",
       "      <th>Physical Activity</th>\n",
       "      <th>Sleep Time</th>\n",
       "      <th>BMI Category</th>\n",
       "    </tr>\n",
       "  </thead>\n",
       "  <tbody>\n",
       "    <tr>\n",
       "      <th>0</th>\n",
       "      <td>No</td>\n",
       "      <td>16.60</td>\n",
       "      <td>Yes</td>\n",
       "      <td>No</td>\n",
       "      <td>Female</td>\n",
       "      <td>55-59</td>\n",
       "      <td>Yes</td>\n",
       "      <td>5.0</td>\n",
       "      <td>Underweight (less than 18.5)</td>\n",
       "    </tr>\n",
       "    <tr>\n",
       "      <th>1</th>\n",
       "      <td>No</td>\n",
       "      <td>20.34</td>\n",
       "      <td>No</td>\n",
       "      <td>No</td>\n",
       "      <td>Female</td>\n",
       "      <td>80 or older</td>\n",
       "      <td>Yes</td>\n",
       "      <td>7.0</td>\n",
       "      <td>Healthy Weight (18.5 to 24.9)</td>\n",
       "    </tr>\n",
       "    <tr>\n",
       "      <th>2</th>\n",
       "      <td>No</td>\n",
       "      <td>26.58</td>\n",
       "      <td>Yes</td>\n",
       "      <td>No</td>\n",
       "      <td>Male</td>\n",
       "      <td>65-69</td>\n",
       "      <td>Yes</td>\n",
       "      <td>8.0</td>\n",
       "      <td>Overweight (25 to 29.9)</td>\n",
       "    </tr>\n",
       "    <tr>\n",
       "      <th>3</th>\n",
       "      <td>No</td>\n",
       "      <td>24.21</td>\n",
       "      <td>No</td>\n",
       "      <td>No</td>\n",
       "      <td>Female</td>\n",
       "      <td>75-79</td>\n",
       "      <td>No</td>\n",
       "      <td>6.0</td>\n",
       "      <td>Healthy Weight (18.5 to 24.9)</td>\n",
       "    </tr>\n",
       "    <tr>\n",
       "      <th>4</th>\n",
       "      <td>No</td>\n",
       "      <td>23.71</td>\n",
       "      <td>No</td>\n",
       "      <td>No</td>\n",
       "      <td>Female</td>\n",
       "      <td>40-44</td>\n",
       "      <td>Yes</td>\n",
       "      <td>8.0</td>\n",
       "      <td>Healthy Weight (18.5 to 24.9)</td>\n",
       "    </tr>\n",
       "  </tbody>\n",
       "</table>\n",
       "</div>"
      ],
      "text/plain": [
       "  Heart Disease    BMI Smoking Alcohol Drinking     Sex Age Category  \\\n",
       "0            No  16.60     Yes               No  Female        55-59   \n",
       "1            No  20.34      No               No  Female  80 or older   \n",
       "2            No  26.58     Yes               No    Male        65-69   \n",
       "3            No  24.21      No               No  Female        75-79   \n",
       "4            No  23.71      No               No  Female        40-44   \n",
       "\n",
       "  Physical Activity  Sleep Time                   BMI Category  \n",
       "0               Yes         5.0   Underweight (less than 18.5)  \n",
       "1               Yes         7.0  Healthy Weight (18.5 to 24.9)  \n",
       "2               Yes         8.0        Overweight (25 to 29.9)  \n",
       "3                No         6.0  Healthy Weight (18.5 to 24.9)  \n",
       "4               Yes         8.0  Healthy Weight (18.5 to 24.9)  "
      ]
     },
     "execution_count": 38,
     "metadata": {},
     "output_type": "execute_result"
    }
   ],
   "source": [
    "# Slice the data, place it in bins, and create a new column to contain the data series\n",
    "\n",
    "renamed_df['BMI Category'] = pd.cut(renamed_df[\"BMI\"], bmi_bins, labels=bmi_labels)\n",
    "renamed_df.head()"
   ]
  },
  {
   "cell_type": "code",
   "execution_count": 49,
   "id": "99f69d3a",
   "metadata": {
    "scrolled": true
   },
   "outputs": [
    {
     "data": {
      "text/plain": [
       "BMI Category\n",
       "Underweight (less than 18.5)       5110\n",
       "Healthy Weight (18.5 to 24.9)     97331\n",
       "Overweight (25 to 29.9)          114512\n",
       "Class 1 Obese (30 to 34.99)       61345\n",
       "Class 2 Obese (35 to 39.99)       25112\n",
       "Class 3 Severely Obese (40+)      16385\n",
       "Name: BMI Category, dtype: int64"
      ]
     },
     "execution_count": 49,
     "metadata": {},
     "output_type": "execute_result"
    }
   ],
   "source": [
    "# Count how many values are in each BMI category\n",
    "bmi_group = renamed_df.groupby('BMI Category')['BMI Category'].count()\n",
    "bmi_group"
   ]
  },
  {
   "cell_type": "code",
   "execution_count": null,
   "id": "483b6b50",
   "metadata": {},
   "outputs": [],
   "source": []
  },
  {
   "cell_type": "code",
   "execution_count": null,
   "id": "43f7e1a1",
   "metadata": {},
   "outputs": [],
   "source": []
  }
 ],
 "metadata": {
  "kernelspec": {
   "display_name": "Python 3 (ipykernel)",
   "language": "python",
   "name": "python3"
  },
  "language_info": {
   "codemirror_mode": {
    "name": "ipython",
    "version": 3
   },
   "file_extension": ".py",
   "mimetype": "text/x-python",
   "name": "python",
   "nbconvert_exporter": "python",
   "pygments_lexer": "ipython3",
   "version": "3.10.11"
  }
 },
 "nbformat": 4,
 "nbformat_minor": 5
}
